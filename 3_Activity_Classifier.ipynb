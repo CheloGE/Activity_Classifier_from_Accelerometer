{
 "cells": [
  {
   "cell_type": "markdown",
   "metadata": {},
   "source": [
    "# Activity Classifier\n",
    "\n",
    "We've explored the data, examined the literature, chosen our features, and pre-processed all the data. Now it's time to finally build the classifier!"
   ]
  },
  {
   "cell_type": "code",
   "execution_count": 21,
   "metadata": {},
   "outputs": [],
   "source": [
    "import os\n",
    "\n",
    "from matplotlib import pyplot as plt\n",
    "import numpy as np\n",
    "import pandas as pd\n",
    "import scipy as sp\n",
    "import scipy.signal\n",
    "import scipy.stats\n",
    "import itertools\n",
    "\n",
    "import activity_classifier_utils"
   ]
  },
  {
   "cell_type": "markdown",
   "metadata": {},
   "source": [
    "Load the data"
   ]
  },
  {
   "cell_type": "code",
   "execution_count": 2,
   "metadata": {},
   "outputs": [],
   "source": [
    "fs = 256\n",
    "data = activity_classifier_utils.LoadWristPPGDataset()"
   ]
  },
  {
   "cell_type": "markdown",
   "metadata": {},
   "source": [
    "### Feature Extraction\n",
    "\n",
    "Train on 10 second long non-overlapping windows"
   ]
  },
  {
   "cell_type": "code",
   "execution_count": 3,
   "metadata": {},
   "outputs": [],
   "source": [
    "window_length_s = 10\n",
    "window_shift_s = 10"
   ]
  },
  {
   "cell_type": "code",
   "execution_count": 4,
   "metadata": {},
   "outputs": [],
   "source": [
    "import activity_classifier_utils\n",
    "\n",
    "window_length = window_length_s * fs\n",
    "window_shift = window_shift_s * fs\n",
    "labels, subjects, features = [], [], []\n",
    "for subject, activity, df in data:\n",
    "    for i in range(0, len(df) - window_length, window_shift):\n",
    "        window = df[i: i + window_length]\n",
    "        accx = window.accx.values\n",
    "        accy = window.accy.values\n",
    "        accz = window.accz.values\n",
    "        features.append(activity_classifier_utils.Featurize(accx, accy, accz, fs=fs))\n",
    "        labels.append(activity)\n",
    "        subjects.append(subject)"
   ]
  },
  {
   "cell_type": "code",
   "execution_count": 5,
   "metadata": {},
   "outputs": [],
   "source": [
    "labels = np.array(labels)\n",
    "subjects = np.array(subjects)\n",
    "features = np.array(features)"
   ]
  },
  {
   "cell_type": "code",
   "execution_count": 6,
   "metadata": {},
   "outputs": [
    {
     "data": {
      "text/html": [
       "<style  type=\"text/css\" >\n",
       "</style><table id=\"T_e47b00c0_c84d_11ea_8484_446d57ce4225\" ><thead>    <tr>        <th class=\"col_heading level0 col0\" >subjects</th>        <th class=\"col_heading level0 col1\" >55 Features</th>        <th class=\"col_heading level0 col2\" >labels</th>    </tr></thead><tbody>\n",
       "                <tr>\n",
       "                                <td id=\"T_e47b00c0_c84d_11ea_8484_446d57ce4225row0_col0\" class=\"data row0 col0\" >s1</td>\n",
       "                        <td id=\"T_e47b00c0_c84d_11ea_8484_446d57ce4225row0_col1\" class=\"data row0 col1\" >[2.401101684154747, -2.9905948346879363, 8.727178850207967, 0.37551422217316954, 0.43275596026576124, 0.19946448364159933, 1.900888154276325, -3.55852493707656, 8.42109502121394, 1.9581652130525309, -3.483905243307727, 8.472469331587932, 2.071745232073733, -3.3257936235574914, 8.58534210366586, 2.328254244362938, -3.1060451136484293, 8.714974303696055, 2.9134502036080163, -2.3056401268833966, 8.997676355595097, 0.8795605831174862, 0.6961022897630436, 0.7789790786812314, 360.98798349906065, 479.43096613258524, 101.85236540008918, 2.4000000000000004, 1.5, 1.5, 1.5, 0.9980040430837622, 0.000347057221257074, 0.0005404432662970756, 0.0001818396972422001, 0.00017478058269290183, 4.777607983500771e-05, 0.6444567666527556, 0.0002241106899364053, 0.0003489888867392448, 0.00011742219297200658, 0.00011286380047911127, 3.0851195591027105e-05, 0.0764488823316489, 2.6585199583208755e-05, 4.1398914121041746e-05, 1.3929243788168575e-05, 1.3388503075458215e-05, 3.6597325741168576e-06, 0.063841422232309, 2.220093871822636e-05, 3.457167032076243e-05, 1.1632122104800129e-05, 1.1180556887553647e-05, 3.0561929147367564e-06]</td>\n",
       "                        <td id=\"T_e47b00c0_c84d_11ea_8484_446d57ce4225row0_col2\" class=\"data row0 col2\" >bike</td>\n",
       "            </tr>\n",
       "            <tr>\n",
       "                                <td id=\"T_e47b00c0_c84d_11ea_8484_446d57ce4225row1_col0\" class=\"data row1 col0\" >s1</td>\n",
       "                        <td id=\"T_e47b00c0_c84d_11ea_8484_446d57ce4225row1_col1\" class=\"data row1 col1\" >[3.034925716596861, -3.3382791114863877, 8.422790514256718, 0.8110984523191188, 0.5766716860069064, 0.47703003812513994, 1.8550385993108942, -4.133196364217353, 7.94698498538388, 2.267531498771273, -3.9412442507964225, 8.083891522058034, 2.8100740559477138, -3.692649998601104, 8.209289910427467, 3.075226264596894, -3.403290238434443, 8.387389812237902, 3.716350718439919, -2.5468646524357528, 8.88946671464046, 0.31597932553085495, 0.3795787159208438, 0.37616521618271537, 1684.174590347443, 851.3285976116431, 582.5476026206014, 2.5, 1.1, 3.3000000000000003, 1.5, 0.9816070623996411, 0.0043855272690782685, 0.004477616679085894, 0.0019664975123878906, 0.0031478495729359212, 0.003290676504230695, 0.8279340719052455, 0.003698962230837337, 0.0037766348180949903, 0.001658637509028009, 0.002655046010258797, 0.002775513035542351, 0.1317847292830697, 0.0005887748224897152, 0.000601138199275152, 0.00026401026666651956, 0.00042261157206741247, 0.00044178666686450974, 0.10133135815723068, 0.0004527182529890427, 0.0004622246485167591, 0.0002030016606196265, 0.0003249527073699792, 0.0003396967403786135]</td>\n",
       "                        <td id=\"T_e47b00c0_c84d_11ea_8484_446d57ce4225row1_col2\" class=\"data row1 col2\" >bike</td>\n",
       "            </tr>\n",
       "            <tr>\n",
       "                                <td id=\"T_e47b00c0_c84d_11ea_8484_446d57ce4225row2_col0\" class=\"data row2 col0\" >s1</td>\n",
       "                        <td id=\"T_e47b00c0_c84d_11ea_8484_446d57ce4225row2_col1\" class=\"data row2 col1\" >[3.0790489022228793, -3.807686227657727, 8.21607074483946, 0.36482616302200127, 0.3729545648258997, 0.21881545815984818, 2.5348757868993625, -4.321528314937263, 7.876801454205316, 2.621960213254071, -4.248165995825449, 7.9340554981835325, 2.796359940461847, -4.090782787092788, 8.060439289855289, 3.030902253789368, -3.8698816872618638, 8.225040064553873, 3.593520180440893, -3.2596731157284884, 8.464177701976528, 0.7527868181294539, 0.5054113859186535, 0.5740265726203044, 340.731210816911, 356.0834750066592, 122.57332410804293, 0.6000000000000001, 0.6000000000000001, 3.4000000000000004, 3.4000000000000004, 0.9973078972372719, 0.0006619408127742959, 0.0004938060792287918, 0.00034595412494671925, 0.0004575705040904017, 0.00012966287936239234, 0.6535814886947616, 0.00043380009627850787, 0.0003236137137617519, 0.00022671956436837095, 0.00029986688371230985, 8.497401650671952e-05, 0.14099963752473446, 9.358535605960279e-05, 6.981442578731026e-05, 4.891107987092263e-05, 6.469143119941345e-05, 1.833176999917116e-05, 0.10373627803043577, 6.885263456137076e-05, 5.136388157549116e-05, 3.5984868254493306e-05, 4.759479109945888e-05, 1.348705303650462e-05]</td>\n",
       "                        <td id=\"T_e47b00c0_c84d_11ea_8484_446d57ce4225row2_col2\" class=\"data row2 col2\" >bike</td>\n",
       "            </tr>\n",
       "            <tr>\n",
       "                                <td id=\"T_e47b00c0_c84d_11ea_8484_446d57ce4225row3_col0\" class=\"data row3 col0\" >s1</td>\n",
       "                        <td id=\"T_e47b00c0_c84d_11ea_8484_446d57ce4225row3_col1\" class=\"data row3 col1\" >[1.766370410389475, -3.128901028859688, 8.749514657987865, 0.9224807601768269, 0.5865042647468585, 0.5337068770909286, 0.014747179850075998, -4.029985118461834, 7.775580281288904, 0.9933964744032697, -3.7323273409346336, 8.251325439040645, 1.4134688326833966, -3.4547870040353255, 8.56564024186744, 1.756137158337003, -3.1404665631755737, 8.79363716190975, 2.7304967785833565, -2.433638940204648, 9.29585687841388, 0.15953162690242062, 0.008962670978820196, 0.44129790875142405, 2178.485127414826, 880.6073665696077, 729.1981584746279, 0.4, 0.2, 1.5, 1.5, 0.9525447042767238, 0.035412867958238045, 0.006615598336366287, 0.004582382735471234, 0.005413059013476556, 0.0035680840913385257, 0.33901722906185117, 0.012603683915760175, 0.00235453706950591, 0.0016309016159613376, 0.0019265450317006631, 0.0012699057338455865, 0.04403457749820502, 0.0016370787339842433, 0.0003058282475686175, 0.00021183602909719676, 0.0002502368293698939, 0.00016494666836603826, 0.03717346371059584, 0.0013820022892608002, 0.00025817654917049097, 0.00017882944239813278, 0.00021124693874979272, 0.0001392460048228816]</td>\n",
       "                        <td id=\"T_e47b00c0_c84d_11ea_8484_446d57ce4225row3_col2\" class=\"data row3 col2\" >bike</td>\n",
       "            </tr>\n",
       "            <tr>\n",
       "                                <td id=\"T_e47b00c0_c84d_11ea_8484_446d57ce4225row4_col0\" class=\"data row4 col0\" >s1</td>\n",
       "                        <td id=\"T_e47b00c0_c84d_11ea_8484_446d57ce4225row4_col1\" class=\"data row4 col1\" >[1.6972330156487523, -3.074743436453803, 8.832209943160617, 0.33289892297564583, 0.315889233994957, 0.21145183365006093, 1.1785992779781234, -3.5569533983204145, 8.52895967877021, 1.282920793711951, -3.4823087356281297, 8.58500946170306, 1.4328842770817682, -3.312021340501616, 8.68625088961832, 1.6895577864780456, -3.0970828351173836, 8.826828742922531, 2.1383533146777625, -2.6517462335989874, 9.099987766907878, 0.8030577791955511, 0.5320616725747458, 0.657804191070513, 283.70353387096316, 255.45218087403697, 114.462407562171, 0.6000000000000001, 0.6000000000000001, 0.6000000000000001, 3.5, 0.9950965587307948, 0.007641767364643211, 0.0008741225452469043, 0.0005220731703336549, 0.0005990525158273847, 0.00017987611107518126, 0.3074108359905959, 0.0023607378333283385, 0.0002700388620932556, 0.00016128178550353878, 0.00018506267866873996, 5.556834178070757e-05, 0.03744205311632369, 0.00028753336252564153, 3.289021802171146e-05, 1.9643813660829297e-05, 2.2540281061452484e-05, 6.7681179742243365e-06, 0.03225327792324403, 0.0002476865631522017, 2.8332242879807848e-05, 1.6921544860447917e-05, 1.9416615517435664e-05, 5.830182158060954e-06]</td>\n",
       "                        <td id=\"T_e47b00c0_c84d_11ea_8484_446d57ce4225row4_col2\" class=\"data row4 col2\" >bike</td>\n",
       "            </tr>\n",
       "    </tbody></table>"
      ],
      "text/plain": [
       "<pandas.io.formats.style.Styler at 0x2043b076208>"
      ]
     },
     "execution_count": 6,
     "metadata": {},
     "output_type": "execute_result"
    }
   ],
   "source": [
    "df = pd.DataFrame({'subjects':subjects, '55 Features': np.zeros(len(features)), 'labels':labels})\n",
    "df['55 Features'] = features.tolist()\n",
    "df.head().style.hide_index()"
   ]
  },
  {
   "cell_type": "markdown",
   "metadata": {},
   "source": [
    "## Build a Random Forest Classifier using sklearn\n",
    "\n",
    "Let's use sklearn to train a random forest to classify our data."
   ]
  },
  {
   "cell_type": "code",
   "execution_count": 7,
   "metadata": {},
   "outputs": [],
   "source": [
    "from sklearn.ensemble import RandomForestClassifier"
   ]
  },
  {
   "cell_type": "markdown",
   "metadata": {},
   "source": [
    "### Define hyperparameters\n",
    "\n",
    "Let's build a forest with 100 trees where each tree has a maximum depth of 4"
   ]
  },
  {
   "cell_type": "code",
   "execution_count": 8,
   "metadata": {},
   "outputs": [],
   "source": [
    "n_estimators = 100\n",
    "max_tree_depth = 4"
   ]
  },
  {
   "cell_type": "markdown",
   "metadata": {},
   "source": [
    "### Build and train the model"
   ]
  },
  {
   "cell_type": "code",
   "execution_count": 9,
   "metadata": {},
   "outputs": [
    {
     "data": {
      "text/plain": [
       "RandomForestClassifier(bootstrap=True, ccp_alpha=0.0, class_weight=None,\n",
       "                       criterion='gini', max_depth=4, max_features='auto',\n",
       "                       max_leaf_nodes=None, max_samples=None,\n",
       "                       min_impurity_decrease=0.0, min_impurity_split=None,\n",
       "                       min_samples_leaf=1, min_samples_split=2,\n",
       "                       min_weight_fraction_leaf=0.0, n_estimators=100,\n",
       "                       n_jobs=None, oob_score=False, random_state=42, verbose=0,\n",
       "                       warm_start=False)"
      ]
     },
     "execution_count": 9,
     "metadata": {},
     "output_type": "execute_result"
    }
   ],
   "source": [
    "clf = RandomForestClassifier(n_estimators=n_estimators,\n",
    "                             max_depth=max_tree_depth,\n",
    "                             random_state=42)\n",
    "clf.fit(features, labels)"
   ]
  },
  {
   "cell_type": "markdown",
   "metadata": {},
   "source": [
    "## Performance Evaluation\n",
    "\n",
    "### Confusion Matrix\n",
    "\n",
    "One way to evaluate the performance of a multi-class classifier is to look at a confusion matrix. The confusion matrix shows how many datapoints were misclassified and what they were misclassified as."
   ]
  },
  {
   "cell_type": "code",
   "execution_count": 10,
   "metadata": {},
   "outputs": [],
   "source": [
    "from sklearn.metrics import confusion_matrix"
   ]
  },
  {
   "cell_type": "code",
   "execution_count": 11,
   "metadata": {},
   "outputs": [
    {
     "name": "stdout",
     "output_type": "stream",
     "text": [
      "Confusion matrix, without normalization\n",
      "[[0 1 0]\n",
      " [1 1 0]\n",
      " [0 0 1]]\n"
     ]
    },
    {
     "data": {
      "image/png": "[encoded data removed]",
      "text/plain": [
       "<Figure size 576x360 with 2 Axes>"
      ]
     },
     "metadata": {
      "needs_background": "light"
     },
     "output_type": "display_data"
    }
   ],
   "source": [
    "# For illustration purposes lets see how the confusion matrix work for the following example\n",
    "y_true = ['bike', 'run', 'run', 'walk']\n",
    "y_pred = ['run', 'run', 'bike', 'walk']\n",
    "class_names = ['bike', 'run', 'walk']\n",
    "cm = confusion_matrix(y_true, y_pred, labels=class_names);\n",
    "activity_classifier_utils.PlotConfusionMatrix(cm, class_names);"
   ]
  },
  {
   "cell_type": "markdown",
   "metadata": {},
   "source": [
    "### Leave-One-Subject-Out Cross Validation\n",
    "\n",
    "You may have seen leave-one-out cross validation. Leave-one-subject-out cross validation is similar.\n",
    "\n",
    "For many biomedical signal applications you have many datapoints per subject. In this case we have 611 datapoints from only 8 subjects. Because there might be a lot of similarity in how an individual performs a specific activity, leaving some of that person's data in the training set and then testing on it might lead us to believe our model generalizes better than it actually would if it encounters a brand new person who it has never seen in the training set. \n",
    "\n",
    "For this reason we do leave-one-subject-out cross validation.  This is why we kept track of which subject each datapoint belonged to in the `subjects` array."
   ]
  },
  {
   "cell_type": "code",
   "execution_count": 12,
   "metadata": {},
   "outputs": [],
   "source": [
    "from sklearn.model_selection import LeaveOneGroupOut"
   ]
  },
  {
   "cell_type": "code",
   "execution_count": 13,
   "metadata": {},
   "outputs": [],
   "source": [
    "class_names = np.array(['bike', 'run', 'walk'])\n",
    "logo = LeaveOneGroupOut()\n",
    "cm = np.zeros((3, 3), dtype='int')"
   ]
  },
  {
   "cell_type": "code",
   "execution_count": 14,
   "metadata": {},
   "outputs": [],
   "source": [
    "for train_ind, test_ind in logo.split(features, labels, subjects):\n",
    "    # For each cross-validation fold...\n",
    "    \n",
    "    # Split up the dataset into a training and test set.\n",
    "    # The test set has all the data from just one subject\n",
    "    X_train, y_train = features[train_ind], labels[train_ind]\n",
    "    X_test, y_test = features[test_ind], labels[test_ind]\n",
    "    \n",
    "    # Train the classifier\n",
    "    clf.fit(X_train, y_train)\n",
    "    \n",
    "    # Run the classifier on the test set\n",
    "    y_pred = clf.predict(X_test)\n",
    "    \n",
    "    # Compute the confusion matrix for the test predictions\n",
    "    c = confusion_matrix(y_test, y_pred, labels=class_names)\n",
    "    \n",
    "    # Aggregate this confusion matrix with the ones from previous\n",
    "    # folds.\n",
    "    cm += c"
   ]
  },
  {
   "cell_type": "markdown",
   "metadata": {},
   "source": [
    "### Plot Confusion Matrices"
   ]
  },
  {
   "cell_type": "code",
   "execution_count": 15,
   "metadata": {},
   "outputs": [],
   "source": [
    "class_names = ['bike', 'run', 'walk']"
   ]
  },
  {
   "cell_type": "code",
   "execution_count": 16,
   "metadata": {},
   "outputs": [
    {
     "name": "stdout",
     "output_type": "stream",
     "text": [
      "Confusion matrix, without normalization\n",
      "[[140   1 104]\n",
      " [  2 142   3]\n",
      " [ 13  18 188]]\n"
     ]
    },
    {
     "data": {
      "image/png": "[encoded data removed]",
      "text/plain": [
       "<Figure size 576x360 with 2 Axes>"
      ]
     },
     "metadata": {
      "needs_background": "light"
     },
     "output_type": "display_data"
    }
   ],
   "source": [
    "activity_classifier_utils.PlotConfusionMatrix(cm, class_names,\n",
    "                                              title='classifier performance', normalize=False);"
   ]
  },
  {
   "cell_type": "code",
   "execution_count": 17,
   "metadata": {},
   "outputs": [
    {
     "name": "stdout",
     "output_type": "stream",
     "text": [
      "Normalized confusion matrix\n",
      "[[0.57142857 0.00408163 0.4244898 ]\n",
      " [0.01360544 0.96598639 0.02040816]\n",
      " [0.05936073 0.08219178 0.85844749]]\n"
     ]
    },
    {
     "data": {
      "image/png": "[encoded data removed]",
      "text/plain": [
       "<Figure size 576x360 with 2 Axes>"
      ]
     },
     "metadata": {
      "needs_background": "light"
     },
     "output_type": "display_data"
    }
   ],
   "source": [
    "activity_classifier_utils.PlotConfusionMatrix(cm, class_names, \n",
    "                                              title='normalized classifier performance',\n",
    "                                              normalize=True);"
   ]
  },
  {
   "cell_type": "markdown",
   "metadata": {},
   "source": [
    "We seem to be really good at classifying `run`. We don't really mistake `run` for either `bike` or `walk` and don't misclassify the other classes as `run` often.\n",
    "\n",
    "Our biggest mistake seems to be misclassifying `bike` as `walk`. We do that 42% of the time."
   ]
  },
  {
   "cell_type": "markdown",
   "metadata": {},
   "source": [
    "### Compute Classification Accuracy"
   ]
  },
  {
   "cell_type": "markdown",
   "metadata": {},
   "source": [
    "An overall measure of classifier performance is the classification accuracy. This is the percent of time that we make a correct classification. There are other metrics to evaluate classifier performance, and using a single metric can be misleading depending on your dataset. See the further resources section for this lesson to learn more."
   ]
  },
  {
   "cell_type": "markdown",
   "metadata": {},
   "source": [
    "We can compute the classification accuracy from the confusion matrix as follows"
   ]
  },
  {
   "cell_type": "code",
   "execution_count": 29,
   "metadata": {},
   "outputs": [],
   "source": [
    "def compute_accuracy(cm):\n",
    "    \"\"\"\n",
    "        Computes accuracy from confusion matrix data\n",
    "    \"\"\"\n",
    "    TP = np.sum(np.diag(cm)) # True positives\n",
    "    TN = 0; # Our model does not predict if a class is negative\n",
    "    Total = np.sum(cm) # total number of samples\n",
    "    return (TP+TN)/Total"
   ]
  },
  {
   "cell_type": "code",
   "execution_count": 30,
   "metadata": {},
   "outputs": [
    {
     "name": "stdout",
     "output_type": "stream",
     "text": [
      "Accuracy of our Random Forest model is: 0.7463175122749591\n"
     ]
    }
   ],
   "source": [
    "print(f\"Accuracy of our Random Forest model is: {compute_accuracy(cm)}\")"
   ]
  },
  {
   "cell_type": "markdown",
   "metadata": {},
   "source": [
    "# Hyper parameter Fine-tunning"
   ]
  },
  {
   "cell_type": "code",
   "execution_count": 41,
   "metadata": {},
   "outputs": [],
   "source": [
    "# Hyper parameters to fine-tune\n",
    "n_estimators_opt = [2, 10, 20, 50, 100, 150, 300]\n",
    "max_tree_depth_opt = range(2, 7)"
   ]
  },
  {
   "cell_type": "code",
   "execution_count": 35,
   "metadata": {},
   "outputs": [],
   "source": [
    "class_names = np.array(['bike', 'run', 'walk'])\n",
    "logo = LeaveOneGroupOut()\n",
    "accuracy_table = []\n",
    "\n",
    "for n_estimators, max_tree_depth in itertools.product(n_estimators_opt, max_tree_depth_opt):\n",
    "    # Iterate over each pair of hyperparameters\n",
    "    cm = np.zeros((3, 3), dtype='int')                       # Create a new confusion matrix\n",
    "    clf = RandomForestClassifier(n_estimators=n_estimators,  # and a new classifier  for each\n",
    "                                 max_depth=max_tree_depth,   # pair of hyperparameters\n",
    "                                 random_state=42,\n",
    "                                 class_weight='balanced')\n",
    "    for train_ind, test_ind in logo.split(features, labels, subjects):\n",
    "        # Do leave-one-subject-out cross validation as before.\n",
    "        X_train, y_train = features[train_ind], labels[train_ind]\n",
    "        X_test, y_test = features[test_ind], labels[test_ind]\n",
    "        clf.fit(X_train, y_train)\n",
    "        y_pred = clf.predict(X_test)\n",
    "        c = confusion_matrix(y_test, y_pred, labels=class_names)\n",
    "        cm += c\n",
    "    # For each pair of hyperparameters, compute the classification accuracy\n",
    "    classification_accuracy = compute_accuracy(cm)\n",
    "    \n",
    "    # Store the hyperparameters and the classification accuracy that resulted\n",
    "    # from the model created with them.\n",
    "    accuracy_table.append((n_estimators, max_tree_depth, classification_accuracy))"
   ]
  },
  {
   "cell_type": "code",
   "execution_count": 36,
   "metadata": {},
   "outputs": [
    {
     "data": {
      "text/html": [
       "<div>\n",
       "<style scoped>\n",
       "    .dataframe tbody tr th:only-of-type {\n",
       "        vertical-align: middle;\n",
       "    }\n",
       "\n",
       "    .dataframe tbody tr th {\n",
       "        vertical-align: top;\n",
       "    }\n",
       "\n",
       "    .dataframe thead th {\n",
       "        text-align: right;\n",
       "    }\n",
       "</style>\n",
       "<table border=\"1\" class=\"dataframe\">\n",
       "  <thead>\n",
       "    <tr style=\"text-align: right;\">\n",
       "      <th></th>\n",
       "      <th>n_estimators</th>\n",
       "      <th>max_tree_depth</th>\n",
       "      <th>accuracy</th>\n",
       "    </tr>\n",
       "  </thead>\n",
       "  <tbody>\n",
       "    <tr>\n",
       "      <th>0</th>\n",
       "      <td>2</td>\n",
       "      <td>2</td>\n",
       "      <td>0.787234</td>\n",
       "    </tr>\n",
       "    <tr>\n",
       "      <th>1</th>\n",
       "      <td>2</td>\n",
       "      <td>3</td>\n",
       "      <td>0.605565</td>\n",
       "    </tr>\n",
       "    <tr>\n",
       "      <th>2</th>\n",
       "      <td>2</td>\n",
       "      <td>4</td>\n",
       "      <td>0.687398</td>\n",
       "    </tr>\n",
       "    <tr>\n",
       "      <th>3</th>\n",
       "      <td>10</td>\n",
       "      <td>2</td>\n",
       "      <td>0.746318</td>\n",
       "    </tr>\n",
       "    <tr>\n",
       "      <th>4</th>\n",
       "      <td>10</td>\n",
       "      <td>3</td>\n",
       "      <td>0.693944</td>\n",
       "    </tr>\n",
       "    <tr>\n",
       "      <th>5</th>\n",
       "      <td>10</td>\n",
       "      <td>4</td>\n",
       "      <td>0.689034</td>\n",
       "    </tr>\n",
       "    <tr>\n",
       "      <th>6</th>\n",
       "      <td>100</td>\n",
       "      <td>2</td>\n",
       "      <td>0.891980</td>\n",
       "    </tr>\n",
       "    <tr>\n",
       "      <th>7</th>\n",
       "      <td>100</td>\n",
       "      <td>3</td>\n",
       "      <td>0.780687</td>\n",
       "    </tr>\n",
       "    <tr>\n",
       "      <th>8</th>\n",
       "      <td>100</td>\n",
       "      <td>4</td>\n",
       "      <td>0.782324</td>\n",
       "    </tr>\n",
       "    <tr>\n",
       "      <th>9</th>\n",
       "      <td>150</td>\n",
       "      <td>2</td>\n",
       "      <td>0.893617</td>\n",
       "    </tr>\n",
       "    <tr>\n",
       "      <th>10</th>\n",
       "      <td>150</td>\n",
       "      <td>3</td>\n",
       "      <td>0.779051</td>\n",
       "    </tr>\n",
       "    <tr>\n",
       "      <th>11</th>\n",
       "      <td>150</td>\n",
       "      <td>4</td>\n",
       "      <td>0.780687</td>\n",
       "    </tr>\n",
       "  </tbody>\n",
       "</table>\n",
       "</div>"
      ],
      "text/plain": [
       "    n_estimators  max_tree_depth  accuracy\n",
       "0              2               2  0.787234\n",
       "1              2               3  0.605565\n",
       "2              2               4  0.687398\n",
       "3             10               2  0.746318\n",
       "4             10               3  0.693944\n",
       "5             10               4  0.689034\n",
       "6            100               2  0.891980\n",
       "7            100               3  0.780687\n",
       "8            100               4  0.782324\n",
       "9            150               2  0.893617\n",
       "10           150               3  0.779051\n",
       "11           150               4  0.780687"
      ]
     },
     "execution_count": 36,
     "metadata": {},
     "output_type": "execute_result"
    }
   ],
   "source": [
    "accuracy_table_df = pd.DataFrame(accuracy_table,\n",
    "                                 columns=['n_estimators', 'max_tree_depth', 'accuracy'])\n",
    "accuracy_table_df"
   ]
  },
  {
   "cell_type": "code",
   "execution_count": 37,
   "metadata": {},
   "outputs": [
    {
     "data": {
      "text/plain": [
       "n_estimators      150.000000\n",
       "max_tree_depth      2.000000\n",
       "accuracy            0.893617\n",
       "Name: 9, dtype: float64"
      ]
     },
     "execution_count": 37,
     "metadata": {},
     "output_type": "execute_result"
    }
   ],
   "source": [
    "# Best combination of parameters is:\n",
    "accuracy_table_df.loc[accuracy_table_df.accuracy.idxmax()]"
   ]
  },
  {
   "cell_type": "markdown",
   "metadata": {},
   "source": [
    "**Conclusion** This means that the combination of hyper-parameters is `max_tree_depth=2` and `n_estimators=150` which yields an accuracy of 89.36% \n",
    "\n",
    "`Note` The issue with this approach is that we are making hyper-parameter decisions based on the testing dataset, which might be a biased approach. To mitigate this problem we need to create a validation dataset. \n",
    "\n",
    "## Nested Cross validation\n",
    "\n",
    "Nested cross validation is equivalent to dividing the dataset into `train`, `validation` and `test` sets, but when we don't have enough data to separate your dataset into 3 parts, we can nest the hyperparameter selection in another layer of cross-validation."
   ]
  },
  {
   "cell_type": "code",
   "execution_count": 42,
   "metadata": {},
   "outputs": [
    {
     "name": "stdout",
     "output_type": "stream",
     "text": [
      "Done split 1\n",
      "Done split 2\n",
      "Done split 3\n",
      "Done split 4\n",
      "Done split 5\n",
      "Done split 6\n",
      "Done split 7\n",
      "Done split 8\n"
     ]
    }
   ],
   "source": [
    "class_names = ['bike', 'run', 'walk']\n",
    "\n",
    "# Store the confusion matrix for the outer CV fold.\n",
    "nested_cv_cm = np.zeros((3, 3), dtype='int')\n",
    "splits = 0\n",
    "\n",
    "for train_val_ind, test_ind in logo.split(features, labels, subjects):\n",
    "    # Split the dataset into a test set and a training + validation set.\n",
    "    # Model parameters (the random forest tree nodes) will be trained on the training set.\n",
    "    # Hyperparameters (how many trees and the max depth) will be trained on the validation set.\n",
    "    # Generalization error will be computed on the test set.\n",
    "    X_train_val, y_train_val = features[train_val_ind], labels[train_val_ind]\n",
    "    subjects_train_val = subjects[train_val_ind]\n",
    "    X_test, y_test = features[test_ind], labels[test_ind]\n",
    "    \n",
    "    # Keep track of the best hyperparameters for this training + validation set.\n",
    "    best_hyper_parames = None\n",
    "    best_accuracy = 0\n",
    "    \n",
    "    for n_estimators, max_tree_depth in itertools.product(n_estimators_opt,\n",
    "                                                          max_tree_depth_opt):\n",
    "        # Optimize hyperparameters as above.\n",
    "        inner_cm = np.zeros((3, 3), dtype='int')\n",
    "        clf = RandomForestClassifier(n_estimators=n_estimators,\n",
    "                                     max_depth=max_tree_depth,\n",
    "                                     random_state=42,\n",
    "                                     class_weight='balanced')\n",
    "        for train_ind, validation_ind in logo.split(X_train_val, y_train_val,\n",
    "                                                    subjects_train_val):\n",
    "            X_train, y_train = X_train_val[train_ind], y_train_val[train_ind]\n",
    "            X_val, y_val = X_train_val[validation_ind], y_train_val[validation_ind]\n",
    "            clf.fit(X_train, y_train)\n",
    "            y_pred = clf.predict(X_val)\n",
    "            c = confusion_matrix(y_val, y_pred, labels=class_names)\n",
    "            inner_cm += c\n",
    "        classification_accuracy = compute_accuracy(inner_cm)\n",
    "        \n",
    "        # Keep track of the best pair of hyperparameters.\n",
    "        if classification_accuracy > best_accuracy:\n",
    "            best_accuracy = classification_accuracy\n",
    "            best_hyper_params = (n_estimators, max_tree_depth)\n",
    "    \n",
    "    # Create a model with the best pair of hyperparameters for this training + validation set.\n",
    "    best_clf = RandomForestClassifier(n_estimators=best_hyper_params[0],\n",
    "                                      max_depth=best_hyper_params[1],\n",
    "                                      class_weight='balanced')\n",
    "    \n",
    "    # Finally, train this model and test it on the test set.\n",
    "    best_clf.fit(X_train_val, y_train_val)\n",
    "    y_pred = best_clf.predict(X_test)\n",
    "    \n",
    "    # Aggregate confusion matrices for each CV fold.\n",
    "    c = confusion_matrix(y_test, y_pred, labels=class_names)\n",
    "    nested_cv_cm += c\n",
    "    splits += 1\n",
    "    print('Done split {}'.format(splits))\n"
   ]
  },
  {
   "cell_type": "code",
   "execution_count": 44,
   "metadata": {},
   "outputs": [
    {
     "name": "stdout",
     "output_type": "stream",
     "text": [
      "RandomForestClassifier(bootstrap=True, ccp_alpha=0.0, class_weight='balanced',\n",
      "                       criterion='gini', max_depth=2, max_features='auto',\n",
      "                       max_leaf_nodes=None, max_samples=None,\n",
      "                       min_impurity_decrease=0.0, min_impurity_split=None,\n",
      "                       min_samples_leaf=1, min_samples_split=2,\n",
      "                       min_weight_fraction_leaf=0.0, n_estimators=150,\n",
      "                       n_jobs=None, oob_score=False, random_state=None,\n",
      "                       verbose=0, warm_start=False)\n"
     ]
    },
    {
     "data": {
      "text/plain": [
       "0.7741407528641571"
      ]
     },
     "execution_count": 44,
     "metadata": {},
     "output_type": "execute_result"
    }
   ],
   "source": [
    "print(best_clf)\n",
    "# Getting accuracy on the testing set\n",
    "compute_accuracy(nested_cv_cm)"
   ]
  },
  {
   "cell_type": "markdown",
   "metadata": {},
   "source": [
    "**Conclusion** We can see that by assessing our model on a completely new set (testing dataset) our model doesn't perform as good as we thought in the previous section.\n",
    "\n",
    "## Best features-only regularization \n",
    "\n",
    "Now that we have a correct way of assessin our model. We can try to improve it for now on. One of the best ways to regularized a model that has too features fed to it is to take into account only best features or features that are more relevant for the target we are looking for. "
   ]
  },
  {
   "cell_type": "code",
   "execution_count": 47,
   "metadata": {},
   "outputs": [
    {
     "data": {
      "text/plain": [
       "array([0.00000000e+00, 3.75397406e-03, 1.72506479e-02, 3.01881206e-03,\n",
       "       7.76452151e-02, 2.46097823e-02, 4.61399226e-02, 4.51495067e-03,\n",
       "       5.32232331e-02, 4.45441489e-02, 1.60339468e-04, 1.06337275e-01,\n",
       "       0.00000000e+00, 1.33560334e-03, 6.21122805e-02, 0.00000000e+00,\n",
       "       7.73482982e-03, 1.09810744e-02, 1.07627208e-04, 3.85087396e-03,\n",
       "       2.83927151e-03, 2.76103709e-03, 0.00000000e+00, 2.58902819e-05,\n",
       "       1.35249890e-02, 5.44956687e-02, 3.62204949e-02, 0.00000000e+00,\n",
       "       4.03505305e-04, 0.00000000e+00, 0.00000000e+00, 2.79199938e-02,\n",
       "       2.06116699e-02, 3.46338789e-03, 7.47846207e-03, 2.15228900e-03,\n",
       "       0.00000000e+00, 2.60237011e-03, 3.52552354e-03, 2.96951276e-03,\n",
       "       5.43172420e-03, 9.28130718e-05, 1.18046372e-04, 1.66057621e-02,\n",
       "       1.11270428e-01, 4.56373468e-02, 6.86592388e-02, 4.51069628e-02,\n",
       "       2.77443382e-02, 0.00000000e+00, 5.97030305e-03, 7.29757063e-04,\n",
       "       6.52217608e-03, 9.54638770e-03, 8.25005899e-03])"
      ]
     },
     "execution_count": 47,
     "metadata": {},
     "output_type": "execute_result"
    }
   ],
   "source": [
    "# let's see what are the ratings for each performance (the higher the value the higher the importance)\n",
    "best_clf.feature_importances_"
   ]
  },
  {
   "cell_type": "code",
   "execution_count": 48,
   "metadata": {},
   "outputs": [
    {
     "data": {
      "text/plain": [
       "[(0.11127042795488563, 'energy_12_z'),\n",
       " (0.10633727547190319, 'p10_z'),\n",
       " (0.07764521508236992, 'std_y'),\n",
       " (0.06865923880937809, 'energy_34_z'),\n",
       " (0.06211228049770109, 'p25_z'),\n",
       " (0.05449566872945236, 'energy_y'),\n",
       " (0.053223233116716756, 'p5_z'),\n",
       " (0.046139922592014576, 'p5_x'),\n",
       " (0.04563734683260797, 'energy_23_z'),\n",
       " (0.04510696282999904, 'energy_45_z')]"
      ]
     },
     "execution_count": 48,
     "metadata": {},
     "output_type": "execute_result"
    }
   ],
   "source": [
    "# get the 10 most important features\n",
    "sorted(list(zip(best_clf.feature_importances_, activity_classifier_utils.FeatureNames())), reverse=True)[:10]"
   ]
  },
  {
   "cell_type": "code",
   "execution_count": 91,
   "metadata": {},
   "outputs": [
    {
     "data": {
      "text/plain": [
       "(611, 10)"
      ]
     },
     "execution_count": 91,
     "metadata": {},
     "output_type": "execute_result"
    }
   ],
   "source": [
    "sorted_features = sorted(zip(best_clf.feature_importances_, np.arange(len(best_clf.feature_importances_))), \n",
    "                         reverse=True)\n",
    "best_feature_indices = list(zip(*sorted_features))[1]\n",
    "X = features[:, best_feature_indices[:10]] # Data with only the 10 best features\n",
    "X.shape"
   ]
  },
  {
   "cell_type": "code",
   "execution_count": 92,
   "metadata": {},
   "outputs": [
    {
     "name": "stdout",
     "output_type": "stream",
     "text": [
      "Normalized confusion matrix\n",
      "[[0.92653061 0.07346939 0.        ]\n",
      " [0.05022831 0.87671233 0.07305936]\n",
      " [0.01360544 0.04081633 0.94557823]]\n",
      "Classification accuracy = 0.91\n"
     ]
    },
    {
     "data": {
      "image/png": "[encoded data removed]",
      "text/plain": [
       "<Figure size 576x360 with 2 Axes>"
      ]
     },
     "metadata": {
      "needs_background": "light"
     },
     "output_type": "display_data"
    }
   ],
   "source": [
    "cm = activity_classifier_utils.LOSOCVPerformance(X, labels, subjects, best_clf)\n",
    "activity_classifier_utils.PlotConfusionMatrix(cm, class_names, normalize=True)\n",
    "print('Classification accuracy = {:0.2f}'.format(compute_accuracy(cm)))"
   ]
  },
  {
   "cell_type": "code",
   "execution_count": 93,
   "metadata": {},
   "outputs": [
    {
     "name": "stdout",
     "output_type": "stream",
     "text": [
      "Done split 1\n",
      "Done split 2\n",
      "Done split 3\n",
      "Done split 4\n",
      "Done split 5\n",
      "Done split 6\n",
      "Done split 7\n",
      "Done split 8\n"
     ]
    }
   ],
   "source": [
    "class_names = ['bike', 'run', 'walk']\n",
    "\n",
    "# Store the confusion matrix for the outer CV fold.\n",
    "nested_cv_cm = np.zeros((3, 3), dtype='int')\n",
    "splits = 0\n",
    "\n",
    "for train_val_ind, test_ind in logo.split(X, labels, subjects):\n",
    "    # Split the dataset into a test set and a training + validation set.\n",
    "    # Model parameters (the random forest tree nodes) will be trained on the training set.\n",
    "    # Hyperparameters (how many trees and the max depth) will be trained on the validation set.\n",
    "    # Generalization error will be computed on the test set.\n",
    "    X_train_val, y_train_val = features[train_val_ind], labels[train_val_ind]\n",
    "    subjects_train_val = subjects[train_val_ind]\n",
    "    X_test, y_test = features[test_ind], labels[test_ind]\n",
    "    \n",
    "    # Keep track of the best hyperparameters for this training + validation set.\n",
    "    best_hyper_parames = None\n",
    "    best_accuracy = 0\n",
    "    \n",
    "    for n_estimators, max_tree_depth in itertools.product(n_estimators_opt,\n",
    "                                                          max_tree_depth_opt):\n",
    "        # Optimize hyperparameters as above.\n",
    "        inner_cm = np.zeros((3, 3), dtype='int')\n",
    "        clf = RandomForestClassifier(n_estimators=n_estimators,\n",
    "                                     max_depth=max_tree_depth,\n",
    "                                     random_state=42,\n",
    "                                     class_weight='balanced')\n",
    "        for train_ind, validation_ind in logo.split(X_train_val, y_train_val,\n",
    "                                                    subjects_train_val):\n",
    "            X_train, y_train = X_train_val[train_ind], y_train_val[train_ind]\n",
    "            X_val, y_val = X_train_val[validation_ind], y_train_val[validation_ind]\n",
    "            clf.fit(X_train, y_train)\n",
    "            y_pred = clf.predict(X_val)\n",
    "            c = confusion_matrix(y_val, y_pred, labels=class_names)\n",
    "            inner_cm += c\n",
    "        classification_accuracy = compute_accuracy(inner_cm)\n",
    "        \n",
    "        # Keep track of the best pair of hyperparameters.\n",
    "        if classification_accuracy > best_accuracy:\n",
    "            best_accuracy = classification_accuracy\n",
    "            best_hyper_params = (n_estimators, max_tree_depth)\n",
    "    \n",
    "    # Create a model with the best pair of hyperparameters for this training + validation set.\n",
    "    best_clf = RandomForestClassifier(n_estimators=best_hyper_params[0],\n",
    "                                      max_depth=best_hyper_params[1],\n",
    "                                      class_weight='balanced')\n",
    "    \n",
    "    # Finally, train this model and test it on the test set.\n",
    "    best_clf.fit(X_train_val, y_train_val)\n",
    "    y_pred = best_clf.predict(X_test)\n",
    "    \n",
    "    # Aggregate confusion matrices for each CV fold.\n",
    "    c = confusion_matrix(y_test, y_pred, labels=class_names)\n",
    "    nested_cv_cm += c\n",
    "    splits += 1\n",
    "    print('Done split {}'.format(splits))"
   ]
  },
  {
   "cell_type": "code",
   "execution_count": 94,
   "metadata": {},
   "outputs": [
    {
     "name": "stdout",
     "output_type": "stream",
     "text": [
      "RandomForestClassifier(bootstrap=True, ccp_alpha=0.0, class_weight='balanced',\n",
      "                       criterion='gini', max_depth=2, max_features='auto',\n",
      "                       max_leaf_nodes=None, max_samples=None,\n",
      "                       min_impurity_decrease=0.0, min_impurity_split=None,\n",
      "                       min_samples_leaf=1, min_samples_split=2,\n",
      "                       min_weight_fraction_leaf=0.0, n_estimators=150,\n",
      "                       n_jobs=None, oob_score=False, random_state=None,\n",
      "                       verbose=0, warm_start=False)\n"
     ]
    },
    {
     "data": {
      "text/plain": [
       "0.7970540098199672"
      ]
     },
     "execution_count": 94,
     "metadata": {},
     "output_type": "execute_result"
    }
   ],
   "source": [
    "print(best_clf)\n",
    "# Getting accuracy on the testing set\n",
    "compute_accuracy(nested_cv_cm)"
   ]
  },
  {
   "cell_type": "markdown",
   "metadata": {},
   "source": [
    "**Final Conclusion** By regularizing on best features only we were able to achieve a 91% accuracy for the normal evaluation and around 80% for the nested cross validation. "
   ]
  },
  {
   "cell_type": "code",
   "execution_count": null,
   "metadata": {},
   "outputs": [],
   "source": []
  }
 ],
 "metadata": {
  "kernelspec": {
   "display_name": "Python 3",
   "language": "python",
   "name": "python3"
  },
  "language_info": {
   "codemirror_mode": {
    "name": "ipython",
    "version": 3
   },
   "file_extension": ".py",
   "mimetype": "text/x-python",
   "name": "python",
   "nbconvert_exporter": "python",
   "pygments_lexer": "ipython3",
   "version": "3.6.10"
  }
 },
 "nbformat": 4,
 "nbformat_minor": 2
}
